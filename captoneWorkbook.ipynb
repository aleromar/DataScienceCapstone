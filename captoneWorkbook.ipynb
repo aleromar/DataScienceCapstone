{
 "cells": [
  {
   "cell_type": "markdown",
   "metadata": {},
   "source": [
    "# Capstone Project: Create a Customer Segmentation Report for Arvato Financial Services\n",
    "\n",
    "In this project, you will analyze demographics data for customers of a mail-order sales company in Germany, comparing it against demographics information for the general population. You'll use unsupervised learning techniques to perform customer segmentation, identifying the parts of the population that best describe the core customer base of the company. Then, you'll apply what you've learned on a third dataset with demographics information for targets of a marketing campaign for the company, and use a model to predict which individuals are most likely to convert into becoming customers for the company. The data that you will use has been provided by our partners at Bertelsmann Arvato Analytics, and represents a real-life data science task.\n",
    "\n",
    "If you completed the first term of this program, you will be familiar with the first part of this project, from the unsupervised learning project. The versions of those two datasets used in this project will include many more features and has not been pre-cleaned. You are also free to choose whatever approach you'd like to analyzing the data rather than follow pre-determined steps. In your work on this project, make sure that you carefully document your steps and decisions, since your main deliverable for this project will be a blog post reporting your findings."
   ]
  },
  {
   "cell_type": "code",
   "execution_count": 1,
   "metadata": {},
   "outputs": [],
   "source": [
    "# import libraries here; add more as necessary\n",
    "import numpy as np\n",
    "import pandas as pd\n",
    "import matplotlib.pyplot as plt\n",
    "import seaborn as sns\n",
    "from sklearn.ensemble import RandomForestClassifier, GradientBoostingClassifier\n",
    "from sklearn.cluster import KMeans\n",
    "from sklearn.preprocessing import StandardScaler\n",
    "from sklearn.decomposition import PCA\n",
    "from sklearn.linear_model import LinearRegression\n",
    "from sklearn.model_selection import GridSearchCV\n",
    "from sklearn.pipeline import Pipeline\n",
    "from sklearn.model_selection import train_test_split\n",
    "from sklearn.metrics import fbeta_score, make_scorer, recall_score\n",
    "# magic word for producing visualizations in notebook\n",
    "%matplotlib inline\n",
    "\n",
    "def listFeaturesWithAllData( df ):\n",
    "    '''\n",
    "    Description: Method that returns a list with columns that \n",
    "    do not contain any missing values.\n",
    "    \n",
    "    Input: df - dataframe containing all features to be analyzed\n",
    "   \n",
    "    Output: returnlist - List containing the name of those features that have no \n",
    "            missing values\n",
    "    '''\n",
    "    internallist = list(df.loc[:,df.isna().sum() == 0].columns)\n",
    "    returnlist = []\n",
    "    for col in internallist:\n",
    "        try:\n",
    "            df[col].astype('float')\n",
    "            returnlist.append(col)\n",
    "        except ValueError:\n",
    "            continue\n",
    "    return returnlist\n",
    "\n",
    "def listFeaturesNeedImputation( df ):\n",
    "    '''\n",
    "    Description: Method that returns a list with columns that \n",
    "    do contain missing values.\n",
    "    \n",
    "    Input: df - dataframe containing all features to be analyzed\n",
    "   \n",
    "    Output: returnlist - List containing the name of those features that have no \n",
    "            missing values\n",
    "    '''\n",
    "    internallist = list(df.loc[:,df.isna().sum() != 0].columns)\n",
    "    returnlist = []\n",
    "    for col in internallist:\n",
    "        try:\n",
    "            df[col].astype('float')\n",
    "            returnlist.append(col)\n",
    "        except ValueError:\n",
    "            continue\n",
    "    return returnlist\n",
    "\n",
    "def changeinvalidToNan(df,invalidvalues_df, inplace=False):\n",
    "    '''\n",
    "    Description: It will take a dataframe containing invalid values\n",
    "    and subsbtitute those values for np.nan in the df dataframe.\n",
    "    \n",
    "    Input: df - dataframe where invalid values are to be replaced by nans\n",
    "           invalidvalues_df - dataframe containing invalid values per column\n",
    "    \n",
    "    Output: internaldf, which may be operations in place or on a separate dataframe\n",
    "    '''\n",
    "    internaldf = df.copy() if not inplace else df\n",
    "    for col in invalidvalues_df.index:\n",
    "        try:\n",
    "            invalidValue = int(invalidvalues_df.loc[col])\n",
    "            internaldf[col] = internaldf[col].replace({invalidValue:np.nan})\n",
    "        except:\n",
    "            splitlist = invalidvalues_df.loc[col,'invalid_values'].split(':')\n",
    "            invalidValue1 = int(splitlist[0][1:])\n",
    "            invalidValue2 = int(splitlist[1][:-1])\n",
    "            internaldf[col] = internaldf[col].replace({invalidValue1:np.nan,invalidValue2:np.nan})\n",
    "    return internaldf\n",
    "\n",
    "def orderByMissingRatio(df,n,ascending=True):\n",
    "    '''\n",
    "    Description: Order the columns of a dataframe according to the number\n",
    "    of missing cells. This ordering can be ascending or descending. Then\n",
    "    filter the first few n and return a list with names\n",
    "    \n",
    "    Input: df - dataframe containing features to be analysed\n",
    "           n - number of columns to be filtered\n",
    "           ascending - whether the columns are filtered according to ascending\n",
    "                       or descending order\n",
    "    \n",
    "    Output: internaldf, which may be operations in place or on a separate dataframe\n",
    "    '''\n",
    "    return (df.isna().sum(axis=0)/df.shape[0]).sort_values(ascending=ascending)[:n]\n",
    "\n",
    "def differentitemsBetweenlists(list1,list2):\n",
    "    '''\n",
    "    Description: Return two list with names of items that are different\n",
    "    between the first and the second list\n",
    "    \n",
    "    Input: list1 - list containing names of columns for a given dataframe\n",
    "           list2 - list containing names of columns for a different dataframe\n",
    "    \n",
    "    Output: A first list with columns of the first list that do not appear on the second list\n",
    "            A second list with columns of the second list that do not appear on the first list\n",
    "    '''    \n",
    "    return [x for x in list1 if x not in list2], [x for x in list2 if x not in list1]\n",
    "\n",
    "def removeIndividuals(df,threshold):\n",
    "    '''\n",
    "    Description: Remove individuals/rows of a dataframe when they are missing more features \n",
    "    than the threshold indicated\n",
    "\n",
    "    Input: df - dataframe that includes all those individuals that need to be removed\n",
    "           threshold - number of features that would classify a feature as ready to be removed.\n",
    "\n",
    "    Output: df - clean dataframe after removing rows that met criteria\n",
    "    '''\n",
    "    individualsToRemove = df[df.isna().sum(axis=1) >= threshold].index\n",
    "    df = df.drop(index=individualsToRemove)\n",
    "    return df\n",
    "\n",
    "def removeColumns(dataframe, listcolumnstoremove):\n",
    "    '''\n",
    "    Description: Remove a list of columns from a dataframe\n",
    "\n",
    "    Input: dataframe - dataframe that includes all those columns that need to be removed\n",
    "           listcolumnstoremove - List of columns that should be removed\n",
    "\n",
    "    Output: dattaframe - clean dataframe after removing columns that were not in the list\n",
    "    '''\n",
    "    if len(listcolumnstoremove) > 0:\n",
    "        dataframe.drop(columns=listcolumnstoremove,inplace=True)\n",
    "    return dataframe\n",
    "\n",
    "def imputeNumericalColumns(df,columns_Y,columns_X):\n",
    "    '''\n",
    "    Description: A dataframe that contains missing information for columns Y and the end\n",
    "    goal is to impute those missing values. In order to do so, a simple ML multiclass algorithm\n",
    "    is used to predict values where they are missing.\n",
    "\n",
    "    Input: df - dataframe that includes all features, both the ones with missing values and the ones used for training\n",
    "           columns_Y - list of columns with missing values\n",
    "           columns_X - list of features with all information\n",
    "    '''\n",
    "    # X represents the column where no data is missing\n",
    "    X = df.loc[:,columns_X]\n",
    "    for i,col in enumerate(columns_Y):\n",
    "        # what is the feature to predict\n",
    "        y = df.loc[:,col]\n",
    "        # what are the indexes that we can use for training and those for prediction\n",
    "        predictIndexes = y[y.isna()].index\n",
    "        trainingIndexes = y[~y.isna()].index\n",
    "        # Subset of X used for training\n",
    "        Xpredict = X.loc[predictIndexes,:]\n",
    "        Xtrain = X.loc[trainingIndexes,:]\n",
    "        ytrain = y[trainingIndexes]\n",
    "        # Random forest to imputate missing values\n",
    "        model = RandomForestClassifier(n_estimators = 200)\n",
    "        model = model.fit(Xtrain,ytrain)\n",
    "        df.loc[predictIndexes,col] = model.predict(Xpredict)\n",
    "        print('{}/{}'.format(i,len(columns_Y)))\n",
    "\n",
    "def floatColsToInt(df):\n",
    "    '''\n",
    "    Description: Change float columns of a dataframe to int\n",
    "\n",
    "    Input: df - dataframe that includes all float features\n",
    "    '''    \n",
    "    for col in df.columns:\n",
    "        if df[col].dtype in [np.float16,np.float,np.float32,np.float64]:\n",
    "            df[col] = df[col].astype('int')\n",
    "            \n",
    "def remapColumnCameoDeu(df):\n",
    "    '''\n",
    "    Description: Specific for CAMEO_DEU column. Map string values to numerical\n",
    "\n",
    "    Input: df - dataframe that includes this feature\n",
    "    '''    \n",
    "    mappingDict = {'1A':0 ,'1B':1 ,'1C':2 ,'1D':3 ,'1E':4 ,'2A':5 ,'2B':6 ,'2C':7 ,'2D':8 ,'3A':9 ,'3B':10,'3C':11,'3D':12,\n",
    "               '4A':13,'4B':14,'4C':15,'4D':16,'4E':17,'5A':18,'5B':19,'5C':20,'5D':21,'5E':22,'5F':23,'6A':24,'6B':25,\n",
    "               '6C':26,'6D':27,'6E':28,'6F':29,'7A':30,'7B':31,'7C':32,'7D':33,'7E':34,'8A':35,'8B':36,'8C':37,'8D':38,\n",
    "               '9A':39,'9B':40,'9C':41,'9D':42,'9E':43,'XX':np.nan,'X':np.nan}\n",
    "    df['CAMEO_DEU_2015'] = df['CAMEO_DEU_2015'].replace(mappingDict)\n",
    "\n",
    "def doStuffWithCameoIntl(df):\n",
    "    '''\n",
    "    Description: Engineer two features out of CAMEO_INTL and remove the original feature from the dataset\n",
    "\n",
    "    Input: df - dataframe that includes CAMEO INTL feature\n",
    "    '''        \n",
    "    df['householdIncome'] = np.floor(df['CAMEO_INTL_2015'].replace({'X':np.nan,'XX':np.nan}).astype(float)/10)\n",
    "    df['familytype'] = np.floor(df['CAMEO_INTL_2015'].replace({'X':np.nan,'XX':np.nan}).astype(float)%10)\n",
    "    df.drop(columns = ['CAMEO_INTL_2015'],inplace=True)\n",
    "    \n",
    "remapColumnCameoDeug = lambda df: df.CAMEO_DEUG_2015.replace({'X':np.nan,'XX':np.nan})\n",
    "remapColumnCameoDeug = lambda df: df.OST_WEST_KZ.replace({'O':0,'W':1})\n",
    "\n",
    "\n",
    "def ETLPipelineSingleDf(pathtodf, pathdfclean, isTestDf = False):\n",
    "    '''\n",
    "    Description: ETL pipeline that loads two dataframes, transforms them (clean and wrangle)\n",
    "    and ultimately loads the solution into a new csv file\n",
    "\n",
    "    Input: pathAzdiasRaw - path to csv file containing raw information\n",
    "           pathCustomersRaw - path to csv file containing raw information\n",
    "           pathAzdiasClean - path where clean dataframe needs to be stored\n",
    "           pathCustomersClean - path where clean dataframe needs to be stored\n",
    "    '''    \n",
    "    print('1 - Loading dataframes from csv files')\n",
    "    azdias = pd.read_csv(pathtodf, sep=',').drop(columns=(['Unnamed: 0','LNR'] if isTestDf is False else ['Unnamed: 0']))\n",
    "    \n",
    "    invalid_values_df = pd.read_csv('invalidValues.csv').set_index('column_name')\n",
    "    print('2 - Drop duplicates')\n",
    "    azdias_clean = azdias.drop_duplicates()\n",
    "    print('3 - Change invalid values to np.nan')\n",
    "    azdias_clean = changeinvalidToNan(azdias_clean,invalid_values_df)\n",
    "    indexThreshold = 50\n",
    "    print('4 - Removing individuals with more than {} features missing'.format(indexThreshold))\n",
    "    azdias_clean = removeIndividuals(azdias_clean,indexThreshold)\n",
    "    colsToRemove = ['AGER_TYP', 'ALTER_HH', 'ALTER_KIND1', 'ALTER_KIND2', 'ALTER_KIND3', 'ALTER_KIND4', 'ALTERSKATEGORIE_FEIN', 'EXTSEL992', 'KBA05_BAUMAX', 'KK_KUNDENTYP', 'TITEL_KZ']\n",
    "    print('5 - Removing features that are missing more than a number of invidivuals')\n",
    "    azdias_clean = removeColumns(azdias_clean,colsToRemove)\n",
    "    print('6 - Engineer the features that have string type')\n",
    "    remapColumnCameoDeu(azdias_clean)\n",
    "    azdias_clean['CAMEO_DEUG_2015'] = remapColumnCameoDeug(azdias_clean)\n",
    "    doStuffWithCameoIntl(azdias_clean)\n",
    "    azdias_clean.drop(columns=['D19_LETZTER_KAUF_BRANCHE','EINGEFUEGT_AM'],inplace=True)\n",
    "    azdias_clean['OST_WEST_KZ'] = remapColumnCameoDeug(azdias_clean)\n",
    "    print('7 - Now impute missing values for the numberical features. Num Rows: {}'.format(azdias_clean.shape[0]))\n",
    "    columnsX = listFeaturesWithAllData(azdias_clean)\n",
    "    columnsY = listFeaturesNeedImputation(azdias_clean)\n",
    "    for col in columnsY:\n",
    "        azdias_clean[col] = azdias_clean[col].astype('float')\n",
    "    numnabeforeAz = azdias_clean.isna().sum().sum()\n",
    "    imputeNumericalColumns(azdias_clean,columnsY,columnsX)\n",
    "    print('8 - Change features that float to int')\n",
    "    floatColsToInt(azdias_clean)\n",
    "    print('9 - Load the cleaned dataframes onto csv files')\n",
    "    azdias_clean.to_csv(pathdfclean,index=False)\n",
    "    \n",
    "    return azdias_clean\n",
    "\n",
    "def ETLPipeline(pathAzdiasRaw,pathCustomersRaw, pathAzdiasClean, pathCustomersClean,):\n",
    "    '''\n",
    "    Description: ETL pipeline that loads two dataframes, transforms them (clean and wrangle)\n",
    "    and ultimately loads the solution into a new csv file\n",
    "\n",
    "    Input: pathAzdiasRaw - path to csv file containing raw information\n",
    "           pathCustomersRaw - path to csv file containing raw information\n",
    "           pathAzdiasClean - path where clean dataframe needs to be stored\n",
    "           pathCustomersClean - path where clean dataframe needs to be stored\n",
    "    '''    \n",
    "    print('1 - Loading dataframes from csv files')\n",
    "    azdias = pd.read_csv(pathAzdiasRaw, sep=',').drop(columns=['Unnamed: 0','LNR'])\n",
    "    customers = pd.read_csv(pathCustomersRaw, sep=',').drop(columns=['Unnamed: 0','LNR'])\n",
    "    \n",
    "    invalid_values_df = pd.read_csv('invalidValues.csv').set_index('column_name')\n",
    "    print('2 - Drop duplicates')\n",
    "    azdias_clean = azdias.drop_duplicates()\n",
    "    customers_clean = customers.drop_duplicates()\n",
    "    print('3 - Change invalid values to np.nan')\n",
    "    azdias_clean = changeinvalidToNan(azdias_clean,invalid_values_df)\n",
    "    customers_clean = changeinvalidToNan(customers_clean,invalid_values_df)\n",
    "    indexThreshold = 50\n",
    "    print('4 - Removing individuals with more than {} features missing'.format(indexThreshold))\n",
    "    customers_clean = removeIndividuals(customers_clean,indexThreshold)\n",
    "    azdias_clean = removeIndividuals(azdias_clean,indexThreshold)\n",
    "    colsToRemove = ['AGER_TYP', 'ALTER_HH', 'ALTER_KIND1', 'ALTER_KIND2', 'ALTER_KIND3', 'ALTER_KIND4', 'ALTERSKATEGORIE_FEIN', 'EXTSEL992', 'KBA05_BAUMAX', 'KK_KUNDENTYP', 'TITEL_KZ']\n",
    "    print('5 - Removing features that are missing more than a number of invidivuals')\n",
    "    customers_clean = removeColumns(customers_clean,colsToRemove)\n",
    "    azdias_clean = removeColumns(azdias_clean,colsToRemove)\n",
    "    print('6 - Engineer the features that have string type')\n",
    "    remapColumnCameoDeu(azdias_clean)\n",
    "    remapColumnCameoDeu(customers_clean)\n",
    "    azdias_clean['CAMEO_DEUG_2015'] = remapColumnCameoDeug(azdias_clean)\n",
    "    customers_clean['CAMEO_DEUG_2015'] = remapColumnCameoDeug(customers_clean)\n",
    "    doStuffWithCameoIntl(azdias_clean)\n",
    "    doStuffWithCameoIntl(customers_clean)\n",
    "    azdias_clean.drop(columns=['D19_LETZTER_KAUF_BRANCHE','EINGEFUEGT_AM'],inplace=True)\n",
    "    customers_clean.drop(columns=['D19_LETZTER_KAUF_BRANCHE','EINGEFUEGT_AM'],inplace=True)\n",
    "    azdias_clean['OST_WEST_KZ'] = remapColumnCameoDeug(azdias_clean)\n",
    "    customers_clean['OST_WEST_KZ'] = remapColumnCameoDeug(customers_clean)\n",
    "    print('7 - Now impute missing values for the numberical features')\n",
    "    columnsX = listFeaturesWithAllData(customers_clean)\n",
    "    columnsY = listFeaturesNeedImputation(customers_clean)\n",
    "    for col in columnsY:\n",
    "        customers_clean[col] = customers_clean[col].astype('float')\n",
    "    numnabeforeCust = customers_clean.isna().sum().sum()\n",
    "    imputeNumericalColumns(customers_clean,columnsY,columnsX)\n",
    "    columnsX = listFeaturesWithAllData(azdias_clean)\n",
    "    columnsY = listFeaturesNeedImputation(azdias_clean)\n",
    "    for col in columnsY:\n",
    "        azdias_clean[col] = azdias_clean[col].astype('float')\n",
    "    numnabeforeAz = azdias_clean.isna().sum().sum()\n",
    "    imputeNumericalColumns(azdias_clean,columnsY,columnsX)\n",
    "    print('8 - Change features that float to int')\n",
    "    floatColsToInt(azdias_clean)\n",
    "    floatColsToInt(customers_clean)\n",
    "    print('9 - Load the cleaned dataframes onto csv files')\n",
    "    customers_clean.to_csv(pathAzdiasClean,index=False)\n",
    "    azdias_clean.to_csv(pathCustomersClean,index=False)\n",
    "    \n",
    "    return azdias_clean, customers_clean"
   ]
  },
  {
   "cell_type": "markdown",
   "metadata": {},
   "source": [
    "## Part 0: Get to Know the Data\n",
    "\n",
    "There are four data files associated with this project:\n",
    "\n",
    "- `Udacity_AZDIAS_052018.csv`: Demographics data for the general population of Germany; 891 211 persons (rows) x 366 features (columns).\n",
    "- `Udacity_CUSTOMERS_052018.csv`: Demographics data for customers of a mail-order company; 191 652 persons (rows) x 369 features (columns).\n",
    "- `Udacity_MAILOUT_052018_TRAIN.csv`: Demographics data for individuals who were targets of a marketing campaign; 42 982 persons (rows) x 367 (columns).\n",
    "- `Udacity_MAILOUT_052018_TEST.csv`: Demographics data for individuals who were targets of a marketing campaign; 42 833 persons (rows) x 366 (columns).\n",
    "\n",
    "Each row of the demographics files represents a single person, but also includes information outside of individuals, including information about their household, building, and neighborhood. Use the information from the first two files to figure out how customers (\"CUSTOMERS\") are similar to or differ from the general population at large (\"AZDIAS\"), then use your analysis to make predictions on the other two files (\"MAILOUT\"), predicting which recipients are most likely to become a customer for the mail-order company.\n",
    "\n",
    "The \"CUSTOMERS\" file contains three extra columns ('CUSTOMER_GROUP', 'ONLINE_PURCHASE', and 'PRODUCT_GROUP'), which provide broad information about the customers depicted in the file. The original \"MAILOUT\" file included one additional column, \"RESPONSE\", which indicated whether or not each recipient became a customer of the company. For the \"TRAIN\" subset, this column has been retained, but in the \"TEST\" subset it has been removed; it is against that withheld column that your final predictions will be assessed in the Kaggle competition.\n",
    "\n",
    "Otherwise, all of the remaining columns are the same between the three data files. For more information about the columns depicted in the files, you can refer to two Excel spreadsheets provided in the workspace. [One of them](./DIAS Information Levels - Attributes 2017.xlsx) is a top-level list of attributes and descriptions, organized by informational category. [The other](./DIAS Attributes - Values 2017.xlsx) is a detailed mapping of data values for each feature in alphabetical order.\n",
    "\n",
    "In the below cell, we've provided some initial code to load in the first two datasets. Note for all of the `.csv` data files in this project that they're semicolon (`;`) delimited, so an additional argument in the [`read_csv()`](https://pandas.pydata.org/pandas-docs/stable/generated/pandas.read_csv.html) call has been included to read in the data properly. Also, considering the size of the datasets, it may take some time for them to load completely.\n",
    "\n",
    "You'll notice when the data is loaded in that a warning message will immediately pop up. Before you really start digging into the modeling and analysis, you're going to need to perform some cleaning. Take some time to browse the structure of the data and look over the informational spreadsheets to understand the data values. Make some decisions on which features to keep, which features to drop, and if any revisions need to be made on data formats. It'll be a good idea to create a function with pre-processing steps, since you'll need to clean all of the datasets before you work with them."
   ]
  },
  {
   "cell_type": "code",
   "execution_count": 3,
   "metadata": {
    "scrolled": true
   },
   "outputs": [
    {
     "name": "stderr",
     "output_type": "stream",
     "text": [
      "C:\\Users\\alejanma\\AppData\\Local\\Continuum\\anaconda3\\lib\\site-packages\\IPython\\core\\interactiveshell.py:3057: DtypeWarning: Columns (19,20) have mixed types. Specify dtype option on import or set low_memory=False.\n",
      "  interactivity=interactivity, compiler=compiler, result=result)\n"
     ]
    }
   ],
   "source": [
    "# load in the data\n",
    "azdias = pd.read_csv('../azdias.csv', sep=',').drop(columns=['Unnamed: 0','LNR'])\n",
    "customers = pd.read_csv('../customers.csv', sep=',').drop(columns=['Unnamed: 0','LNR'])"
   ]
  },
  {
   "cell_type": "markdown",
   "metadata": {},
   "source": [
    "I've written a file with the invalid values for each column in the dataset. This will help calculate the number of missing values more precisely"
   ]
  },
  {
   "cell_type": "code",
   "execution_count": 4,
   "metadata": {},
   "outputs": [],
   "source": [
    "invalid_values_df = pd.read_csv('invalidValues.csv').set_index('column_name')"
   ]
  },
  {
   "cell_type": "markdown",
   "metadata": {},
   "source": [
    "Let's see to what extent the columns in both datasets are similar"
   ]
  },
  {
   "cell_type": "code",
   "execution_count": 5,
   "metadata": {
    "scrolled": true
   },
   "outputs": [
    {
     "name": "stdout",
     "output_type": "stream",
     "text": [
      "Number of columns that are different between groups: 3\n",
      "Name of columns that are different between datasets: ['PRODUCT_GROUP', 'CUSTOMER_GROUP', 'ONLINE_PURCHASE']\n",
      "\n",
      "Size of customers dataset. Rows:191652, Columns:368\n",
      "Size of azdias dataset. Rows:891221, Columns:365\n",
      "\n",
      "Number of duplicates. Customers: 41121. Azdias: 45762\n"
     ]
    }
   ],
   "source": [
    "# Are columns the same for both datasets\n",
    "differentcolumns  = [x for x in azdias.columns if x not in customers.columns]\n",
    "differentcolumns += [x for x in customers.columns if x not in azdias.columns]\n",
    "print('Number of columns that are different between groups: {}'.format(len(differentcolumns)))\n",
    "print('Name of columns that are different between datasets: {}'.format(differentcolumns))\n",
    "print()\n",
    "print('Size of customers dataset. Rows:{}, Columns:{}'.format(customers.shape[0],customers.shape[1]))\n",
    "print('Size of azdias dataset. Rows:{}, Columns:{}'.format(azdias.shape[0],azdias.shape[1]))\n",
    "print()\n",
    "print('Number of duplicates. Customers: {}. Azdias: {}'.format(customers.duplicated().sum(), azdias.duplicated().sum()))"
   ]
  },
  {
   "cell_type": "code",
   "execution_count": 6,
   "metadata": {},
   "outputs": [],
   "source": [
    "# Since there are duplicate entries, let's remove the duplicates\n",
    "azdias_clean = azdias.drop_duplicates()\n",
    "customers_clean = customers.drop_duplicates()"
   ]
  },
  {
   "cell_type": "markdown",
   "metadata": {},
   "source": [
    "Let's now modify both dataframes and substitute all those values that are not np.nan but actually are unknown as given by the invalid_values_df above. Then let's print a few columns to get a feel for how many values are missing in each column"
   ]
  },
  {
   "cell_type": "code",
   "execution_count": 7,
   "metadata": {
    "scrolled": true
   },
   "outputs": [
    {
     "name": "stdout",
     "output_type": "stream",
     "text": [
      "Ratio of missing values per column for Customer dataset descending\n",
      "ALTER_KIND4    0.998769\n",
      "ALTER_KIND3    0.993347\n",
      "TITEL_KZ       0.987936\n",
      "ALTER_KIND2    0.973389\n",
      "ALTER_KIND1    0.938607\n",
      "dtype: float64\n",
      "\n",
      "Ratio of missing values per column for Azdias dataset descending\n",
      "ALTER_KIND4    0.998648\n",
      "TITEL_KZ       0.997576\n",
      "ALTER_KIND3    0.993077\n",
      "ALTER_KIND2    0.966900\n",
      "ALTER_KIND1    0.909048\n",
      "dtype: float64\n",
      "\n",
      "Ratio of missing values per column for Customer dataset ascending\n",
      "ALTERSKATEGORIE_GROB         0.000000\n",
      "D19_VERSI_ANZ_12             0.000000\n",
      "D19_VERSAND_REST             0.000000\n",
      "D19_VERSAND_ONLINE_DATUM     0.000000\n",
      "D19_VERSAND_OFFLINE_DATUM    0.000000\n",
      "                               ...   \n",
      "LP_FAMILIE_FEIN              0.016765\n",
      "GFK_URLAUBERTYP              0.016765\n",
      "CJT_KATALOGNUTZER            0.016765\n",
      "LP_LEBENSPHASE_FEIN          0.016765\n",
      "CJT_TYP_1                    0.016765\n",
      "Length: 100, dtype: float64\n",
      "\n",
      "Ratio of missing values per column for Azdias dataset ascending\n",
      "ALTERSKATEGORIE_GROB     0.000000\n",
      "D19_TECHNIK              0.000000\n",
      "FINANZ_UNAUFFAELLIGER    0.000000\n",
      "D19_SONSTIGE             0.000000\n",
      "D19_SCHUHE               0.000000\n",
      "                           ...   \n",
      "GFK_URLAUBERTYP          0.005446\n",
      "RETOURTYP_BK_S           0.005446\n",
      "CJT_GESAMTTYP            0.005446\n",
      "CJT_KATALOGNUTZER        0.005446\n",
      "CJT_TYP_1                0.005446\n",
      "Length: 100, dtype: float64\n"
     ]
    }
   ],
   "source": [
    "azdias_clean = changeinvalidToNan(azdias,invalid_values_df)\n",
    "customers_clean = changeinvalidToNan(customers,invalid_values_df)\n",
    "\n",
    "# Now let's look at how many non na values there are per column.\n",
    "print('Ratio of missing values per column for Customer dataset descending')\n",
    "print(orderByMissingRatio(customers_clean,5,False))\n",
    "print()\n",
    "print('Ratio of missing values per column for Azdias dataset descending')\n",
    "print(orderByMissingRatio(azdias_clean,5,False))\n",
    "print()\n",
    "print('Ratio of missing values per column for Customer dataset ascending')\n",
    "print(orderByMissingRatio(customers_clean,100,True))\n",
    "print()\n",
    "print('Ratio of missing values per column for Azdias dataset ascending')\n",
    "print(orderByMissingRatio(azdias_clean,100,True))"
   ]
  },
  {
   "cell_type": "markdown",
   "metadata": {},
   "source": [
    "Above it can be seen that there are columns with more than 90% values missing. Let's see this information in a histogram"
   ]
  },
  {
   "cell_type": "code",
   "execution_count": 8,
   "metadata": {},
   "outputs": [
    {
     "data": {
      "image/png": "[encoded data removed]",
      "text/plain": [
       "<Figure size 432x288 with 1 Axes>"
      ]
     },
     "metadata": {
      "needs_background": "light"
     },
     "output_type": "display_data"
    }
   ],
   "source": [
    "azdias_clean.isna().sum(axis=1).hist(bins=30);"
   ]
  },
  {
   "cell_type": "markdown",
   "metadata": {},
   "source": [
    "Similarly, in the customer dataset all those  columns that contain 60k missing values seem outliers"
   ]
  },
  {
   "cell_type": "code",
   "execution_count": 9,
   "metadata": {},
   "outputs": [
    {
     "data": {
      "image/png": "[encoded data removed]",
      "text/plain": [
       "<Figure size 432x288 with 1 Axes>"
      ]
     },
     "metadata": {
      "needs_background": "light"
     },
     "output_type": "display_data"
    }
   ],
   "source": [
    "customers_clean.isna().sum(axis=1).hist(bins=30);"
   ]
  },
  {
   "cell_type": "markdown",
   "metadata": {},
   "source": [
    "The above histograms show that there are individuals who are missing a lot of features. In particular it's worrying that for the customer dataset there are more than 40k individuals that are missing more than 250 columns. It seems to me that any individual that is missing more than 50 features should be removed as it's mainly an outlier. Let's do this on both datasets"
   ]
  },
  {
   "cell_type": "code",
   "execution_count": 10,
   "metadata": {},
   "outputs": [
    {
     "name": "stdout",
     "output_type": "stream",
     "text": [
      "% of individuals removed in customer df: 29.95324859641434%\n",
      "% of individuals removed in azdias df: 17.272146863684767%\n"
     ]
    }
   ],
   "source": [
    "indexThreshold = 50\n",
    "previousnumindcustomer, previousnumindazdias = customers_clean.shape[0], azdias_clean.shape[0]\n",
    "customers_clean = removeIndividuals(customers_clean,indexThreshold)\n",
    "azdias_clean = removeIndividuals(azdias_clean,indexThreshold)\n",
    "print(\"% of individuals removed in customer df: {}%\".format(100*(1-customers_clean.shape[0]/previousnumindcustomer)))\n",
    "print(\"% of individuals removed in azdias df: {}%\".format(100*(1-azdias_clean.shape[0]/previousnumindazdias)))"
   ]
  },
  {
   "cell_type": "markdown",
   "metadata": {},
   "source": [
    "Now that problematic individuals are removed, let's check the opposite histograms. That is, what are the features that are misssing most individuals"
   ]
  },
  {
   "cell_type": "code",
   "execution_count": 11,
   "metadata": {
    "scrolled": true
   },
   "outputs": [
    {
     "data": {
      "image/png": "[encoded data removed]",
      "text/plain": [
       "<Figure size 432x288 with 1 Axes>"
      ]
     },
     "metadata": {
      "needs_background": "light"
     },
     "output_type": "display_data"
    }
   ],
   "source": [
    "azdias_clean.isna().sum().hist(bins=30);"
   ]
  },
  {
   "cell_type": "code",
   "execution_count": 12,
   "metadata": {
    "scrolled": false
   },
   "outputs": [
    {
     "data": {
      "image/png": "[encoded data removed]",
      "text/plain": [
       "<Figure size 432x288 with 1 Axes>"
      ]
     },
     "metadata": {
      "needs_background": "light"
     },
     "output_type": "display_data"
    }
   ],
   "source": [
    "customers_clean.isna().sum().hist(bins=30);"
   ]
  },
  {
   "cell_type": "markdown",
   "metadata": {},
   "source": [
    "The histograms above show that now most of the columns contain very few missing values. Still it seems that there are a few columns that look like outliers to me. Let's remove all those columns that contain more than 25% of missing values\n",
    "\n",
    "After identifying the columns with more than 25% of values missing, then we will need to get the union of both sets of missing columns from both datasets and keep the list of valid columns. This is of importance to prepare the ETL pipeline later on"
   ]
  },
  {
   "cell_type": "code",
   "execution_count": 13,
   "metadata": {},
   "outputs": [
    {
     "name": "stdout",
     "output_type": "stream",
     "text": [
      "Number of customer columns to keep: 359\n",
      "Number of azdias columns to keep: 354\n",
      "\n",
      "['ALTER_HH', 'ALTERSKATEGORIE_FEIN', 'PRODUCT_GROUP', 'CUSTOMER_GROUP', 'ONLINE_PURCHASE']\n",
      "\n",
      "[]\n"
     ]
    }
   ],
   "source": [
    "thresholdRatio = 0.25\n",
    "ordercustomers = orderByMissingRatio(customers_clean,customers_clean.shape[0],False)\n",
    "customerColsKeep = ordercustomers[ordercustomers < thresholdRatio].index\n",
    "orderazdias = orderByMissingRatio(azdias_clean,azdias_clean.shape[0],False)\n",
    "azdiasColsKeep = orderazdias[orderazdias < thresholdRatio].index\n",
    "\n",
    "print('Number of customer columns to keep: {}'.format(len(customerColsKeep)))\n",
    "print('Number of azdias columns to keep: {}'.format(len(azdiasColsKeep)))\n",
    "\n",
    "l1,l2 = differentitemsBetweenlists(customerColsKeep,azdiasColsKeep)\n",
    "print()\n",
    "print(l1)\n",
    "print()\n",
    "print(l2)\n"
   ]
  },
  {
   "cell_type": "code",
   "execution_count": 14,
   "metadata": {},
   "outputs": [
    {
     "data": {
      "text/plain": [
       "['AGER_TYP',\n",
       " 'ALTER_HH',\n",
       " 'ALTER_KIND1',\n",
       " 'ALTER_KIND2',\n",
       " 'ALTER_KIND3',\n",
       " 'ALTER_KIND4',\n",
       " 'ALTERSKATEGORIE_FEIN',\n",
       " 'EXTSEL992',\n",
       " 'KBA05_BAUMAX',\n",
       " 'KK_KUNDENTYP',\n",
       " 'TITEL_KZ']"
      ]
     },
     "execution_count": 14,
     "metadata": {},
     "output_type": "execute_result"
    }
   ],
   "source": [
    "ColsToKeep = list(set(customerColsKeep) & set(azdiasColsKeep))\n",
    "ColsToKeep += ['PRODUCT_GROUP', 'CUSTOMER_GROUP', 'ONLINE_PURCHASE']\n",
    "ColsToRemove = [col for col in customers_clean.columns if col not in ColsToKeep]\n",
    "ColsToRemove"
   ]
  },
  {
   "cell_type": "markdown",
   "metadata": {},
   "source": [
    "Let's remove any column that it's not present under ColsToKeep"
   ]
  },
  {
   "cell_type": "code",
   "execution_count": 15,
   "metadata": {},
   "outputs": [
    {
     "data": {
      "text/plain": [
       "((134246, 357), (737288, 354))"
      ]
     },
     "execution_count": 15,
     "metadata": {},
     "output_type": "execute_result"
    }
   ],
   "source": [
    "customers_clean = removeColumns(customers_clean,ColsToRemove)\n",
    "azdias_clean = removeColumns(azdias_clean,ColsToRemove)\n",
    "customers_clean.shape, azdias_clean.shape"
   ]
  },
  {
   "cell_type": "markdown",
   "metadata": {},
   "source": [
    "So far we've removed all those individuals and features that were outliers as far as how much information they were missing. Now, the resulting dataframes contain missing information that is more manageable. We now need to inspect the dataframes to find out problems with types, perhaps engineer some features, etc.\n",
    "Ultimately we will need to impute the missing values, we will see a few approaches for this"
   ]
  },
  {
   "cell_type": "code",
   "execution_count": 16,
   "metadata": {},
   "outputs": [
    {
     "name": "stdout",
     "output_type": "stream",
     "text": [
      "0/64\n",
      "1/64\n",
      "2/64\n",
      "3/64\n",
      "4/64\n",
      "5/64\n",
      "6/64\n",
      "7/64\n",
      "8/64\n",
      "9/64\n",
      "10/64\n",
      "11/64\n",
      "12/64\n",
      "13/64\n",
      "14/64\n",
      "15/64\n",
      "16/64\n",
      "17/64\n",
      "18/64\n",
      "19/64\n",
      "20/64\n",
      "21/64\n",
      "22/64\n",
      "23/64\n",
      "24/64\n",
      "25/64\n",
      "26/64\n",
      "27/64\n",
      "28/64\n",
      "29/64\n",
      "30/64\n",
      "31/64\n",
      "32/64\n",
      "33/64\n",
      "34/64\n",
      "35/64\n",
      "36/64\n",
      "37/64\n",
      "38/64\n",
      "39/64\n",
      "40/64\n",
      "41/64\n",
      "42/64\n",
      "43/64\n",
      "44/64\n",
      "45/64\n",
      "46/64\n",
      "47/64\n",
      "48/64\n",
      "49/64\n",
      "50/64\n",
      "51/64\n",
      "52/64\n",
      "53/64\n",
      "54/64\n",
      "55/64\n",
      "56/64\n",
      "57/64\n",
      "58/64\n",
      "59/64\n",
      "60/64\n",
      "61/64\n",
      "62/64\n",
      "63/64\n",
      "\n",
      "Starting azdias df\n",
      "0/66\n",
      "1/66\n",
      "2/66\n",
      "3/66\n",
      "4/66\n",
      "5/66\n",
      "6/66\n",
      "7/66\n",
      "8/66\n",
      "9/66\n",
      "10/66\n",
      "11/66\n",
      "12/66\n",
      "13/66\n",
      "14/66\n",
      "15/66\n",
      "16/66\n",
      "17/66\n",
      "18/66\n",
      "19/66\n",
      "20/66\n",
      "21/66\n",
      "22/66\n",
      "23/66\n",
      "24/66\n",
      "25/66\n",
      "26/66\n",
      "27/66\n",
      "28/66\n",
      "29/66\n",
      "30/66\n",
      "31/66\n",
      "32/66\n",
      "33/66\n",
      "34/66\n",
      "35/66\n",
      "36/66\n",
      "37/66\n",
      "38/66\n",
      "39/66\n",
      "40/66\n",
      "41/66\n",
      "42/66\n",
      "43/66\n",
      "44/66\n",
      "45/66\n",
      "46/66\n",
      "47/66\n",
      "48/66\n",
      "49/66\n",
      "50/66\n",
      "51/66\n",
      "52/66\n",
      "53/66\n",
      "54/66\n",
      "55/66\n",
      "56/66\n",
      "57/66\n",
      "58/66\n",
      "59/66\n",
      "60/66\n",
      "61/66\n",
      "62/66\n",
      "63/66\n",
      "64/66\n",
      "65/66\n"
     ]
    }
   ],
   "source": [
    "# Impute values for customer df\n",
    "columnsX = listFeaturesWithAllData(customers_clean)\n",
    "columnsY = listFeaturesNeedImputation(customers_clean)\n",
    "numnabeforeCust = customers_clean.isna().sum().sum()\n",
    "imputeNumericalColumns(customers_clean,columnsY,columnsX)\n",
    "# Impute values for az df\n",
    "print()\n",
    "print('Starting azdias df')\n",
    "columnsX = listFeaturesWithAllData(azdias_clean)\n",
    "columnsY = listFeaturesNeedImputation(azdias_clean)\n",
    "numnabeforeAz = azdias_clean.isna().sum().sum()\n",
    "imputeNumericalColumns(azdias_clean,columnsY,columnsX)"
   ]
  },
  {
   "cell_type": "markdown",
   "metadata": {},
   "source": [
    "## Now the idea is to clean the string columns"
   ]
  },
  {
   "cell_type": "markdown",
   "metadata": {},
   "source": [
    "Now let's change float columns to ints as they are all categorical"
   ]
  },
  {
   "cell_type": "code",
   "execution_count": 17,
   "metadata": {},
   "outputs": [],
   "source": [
    "floatColsToInt(azdias_clean)\n",
    "floatColsToInt(customers_clean)"
   ]
  },
  {
   "cell_type": "markdown",
   "metadata": {},
   "source": [
    "Let's see what are the columns that are not numerical"
   ]
  },
  {
   "cell_type": "code",
   "execution_count": 18,
   "metadata": {
    "scrolled": false
   },
   "outputs": [
    {
     "name": "stdout",
     "output_type": "stream",
     "text": [
      "CAMEO_DEU_2015\n",
      "CAMEO_DEUG_2015\n",
      "CAMEO_INTL_2015\n",
      "D19_LETZTER_KAUF_BRANCHE\n",
      "EINGEFUEGT_AM\n",
      "OST_WEST_KZ\n"
     ]
    }
   ],
   "source": [
    "for col in azdias_clean.columns:\n",
    "    if azdias_clean[col].dtype == np.object:\n",
    "        print(col)"
   ]
  },
  {
   "cell_type": "markdown",
   "metadata": {},
   "source": [
    "### CAMEO_DEU_2015\n",
    "\n",
    "This column indicates the type of person a particular individual is. There are many categories that could take numbers only as well. Alternatively, we could use one-hot encoding for this column too. The problem with one hot encoding is that it increases the number of columns of the whole dataset very quickly and we've already got a few of these. Let's just get this classification to a number scale."
   ]
  },
  {
   "cell_type": "code",
   "execution_count": 19,
   "metadata": {},
   "outputs": [],
   "source": [
    "remapColumnCameoDeu(azdias_clean)\n",
    "remapColumnCameoDeu(customers_clean)"
   ]
  },
  {
   "cell_type": "markdown",
   "metadata": {},
   "source": [
    "### CAMEO_DEUG_2015\n",
    "There are some values that are X... Let's change this to np.nan"
   ]
  },
  {
   "cell_type": "code",
   "execution_count": 20,
   "metadata": {},
   "outputs": [],
   "source": [
    "azdias_clean['CAMEO_DEUG_2015'] = remapColumnCameoDeug(azdias_clean)\n",
    "customers_clean['CAMEO_DEUG_2015'] = remapColumnCameoDeug(customers_clean)"
   ]
  },
  {
   "cell_type": "markdown",
   "metadata": {},
   "source": [
    "### CAMEO_INTL_2015\n",
    "\n",
    "Same as before but now with XX. In addition to the above it seems that for this feature two different types of data are encoded into 1. Let's engineer two features out of this column"
   ]
  },
  {
   "cell_type": "code",
   "execution_count": 21,
   "metadata": {},
   "outputs": [
    {
     "data": {
      "text/plain": [
       "1         51\n",
       "2         24\n",
       "3         12\n",
       "4         43\n",
       "5         54\n",
       "          ..\n",
       "891216    41\n",
       "891217    51\n",
       "891218    24\n",
       "891219    51\n",
       "891220    43\n",
       "Name: CAMEO_INTL_2015, Length: 737288, dtype: object"
      ]
     },
     "execution_count": 21,
     "metadata": {},
     "output_type": "execute_result"
    }
   ],
   "source": [
    "azdias_clean.CAMEO_INTL_2015"
   ]
  },
  {
   "cell_type": "code",
   "execution_count": 22,
   "metadata": {},
   "outputs": [],
   "source": [
    "doStuffWithCameoIntl(azdias_clean)\n",
    "doStuffWithCameoIntl(customers_clean)"
   ]
  },
  {
   "cell_type": "markdown",
   "metadata": {},
   "source": [
    "### D19_LETZTER_KAUF_BRANCHE and EINGEFUEGT_AM\n",
    "\n",
    "Values of these don't seem to be of much interest... and I couldn't get any interpretation on the spread sheets, so remove them"
   ]
  },
  {
   "cell_type": "code",
   "execution_count": 23,
   "metadata": {},
   "outputs": [
    {
     "data": {
      "text/plain": [
       "D19_UNBEKANNT         179081\n",
       "D19_VERSICHERUNGEN     52220\n",
       "D19_SONSTIGE           40546\n",
       "D19_VOLLSORTIMENT      31292\n",
       "D19_SCHUHE             28486\n",
       "Name: D19_LETZTER_KAUF_BRANCHE, dtype: int64"
      ]
     },
     "execution_count": 23,
     "metadata": {},
     "output_type": "execute_result"
    }
   ],
   "source": [
    "azdias_clean.D19_LETZTER_KAUF_BRANCHE.value_counts()[:5]"
   ]
  },
  {
   "cell_type": "code",
   "execution_count": 24,
   "metadata": {},
   "outputs": [],
   "source": [
    "azdias_clean.drop(columns=['D19_LETZTER_KAUF_BRANCHE','EINGEFUEGT_AM'],inplace=True)\n",
    "customers_clean.drop(columns=['D19_LETZTER_KAUF_BRANCHE','EINGEFUEGT_AM'],inplace=True)"
   ]
  },
  {
   "cell_type": "markdown",
   "metadata": {},
   "source": [
    "### OST_WEST_KZ\n",
    "\n",
    "Finally, we can map O to 0 and W to 1"
   ]
  },
  {
   "cell_type": "code",
   "execution_count": 25,
   "metadata": {},
   "outputs": [],
   "source": [
    "azdias_clean['OST_WEST_KZ'] = remapColumnCameoDeug(azdias_clean)\n",
    "customers_clean['OST_WEST_KZ'] = remapColumnCameoDeug(customers_clean)"
   ]
  },
  {
   "cell_type": "markdown",
   "metadata": {},
   "source": [
    "Now, these few columns that we've modified contain np.nan values that we need to impute. Let's proceed as before making use of an ML model to impute a category for the missing values"
   ]
  },
  {
   "cell_type": "code",
   "execution_count": 26,
   "metadata": {
    "scrolled": true
   },
   "outputs": [
    {
     "name": "stdout",
     "output_type": "stream",
     "text": [
      "0/3\n",
      "1/3\n",
      "2/3\n"
     ]
    }
   ],
   "source": [
    "# Impute values for customer df\n",
    "columnsX = listFeaturesWithAllData(customers_clean)\n",
    "columnsY = listFeaturesNeedImputation(customers_clean)\n",
    "for col in columnsY:\n",
    "    customers_clean[col] = customers_clean[col].astype('float')\n",
    "numnabeforeCust = customers_clean.isna().sum().sum()\n",
    "imputeNumericalColumns(customers_clean,columnsY,columnsX)"
   ]
  },
  {
   "cell_type": "code",
   "execution_count": 27,
   "metadata": {},
   "outputs": [
    {
     "name": "stdout",
     "output_type": "stream",
     "text": [
      "0/3\n",
      "1/3\n",
      "2/3\n"
     ]
    }
   ],
   "source": [
    "# Impute values for azdias df\n",
    "columnsX = listFeaturesWithAllData(azdias_clean)\n",
    "columnsY = listFeaturesNeedImputation(azdias_clean)\n",
    "for col in columnsY:\n",
    "    azdias_clean[col] = azdias_clean[col].astype('float')\n",
    "numnabeforeAz = azdias_clean.isna().sum().sum()\n",
    "imputeNumericalColumns(azdias_clean,columnsY,columnsX)"
   ]
  },
  {
   "cell_type": "code",
   "execution_count": 28,
   "metadata": {},
   "outputs": [
    {
     "name": "stdout",
     "output_type": "stream",
     "text": [
      "Before: 900. Now: 0\n",
      "Before: 10020. Now: 0\n"
     ]
    }
   ],
   "source": [
    "print('Before: {}. Now: {}'.format(numnabeforeCust,customers_clean.isna().sum().sum()))\n",
    "print('Before: {}. Now: {}'.format(numnabeforeAz,azdias_clean.isna().sum().sum()))"
   ]
  },
  {
   "cell_type": "code",
   "execution_count": 29,
   "metadata": {},
   "outputs": [],
   "source": [
    "customers_clean.to_csv('customersAllClean.csv',index=False)\n",
    "azdias_clean.to_csv('azdiasAllClean.csv',index=False)"
   ]
  },
  {
   "cell_type": "code",
   "execution_count": 30,
   "metadata": {},
   "outputs": [],
   "source": [
    "#az_df,cu_df = ETLPipeline('../azdias.csv','../customers.csv','azdiasAllClean.csv','customersAllClean.csv')"
   ]
  },
  {
   "cell_type": "markdown",
   "metadata": {},
   "source": [
    "## Part 1: Customer Segmentation Report\n",
    "\n",
    "The main bulk of your analysis will come in this part of the project. Here, you should use unsupervised learning techniques to describe the relationship between the demographics of the company's existing customers and the general population of Germany. By the end of this part, you should be able to describe parts of the general population that are more likely to be part of the mail-order company's main customer base, and which parts of the general population are less so."
   ]
  },
  {
   "cell_type": "markdown",
   "metadata": {},
   "source": [
    "Let's read the cleaned datasets"
   ]
  },
  {
   "cell_type": "code",
   "execution_count": 17,
   "metadata": {},
   "outputs": [],
   "source": [
    "customers_clean = pd.read_csv('customersAllClean.csv')\n",
    "azdias_clean = pd.read_csv('azdiasAllClean.csv') "
   ]
  },
  {
   "cell_type": "markdown",
   "metadata": {},
   "source": [
    "customers_clean['PRODUCT_GROUP'] = customers_clean['PRODUCT_GROUP'].replace({'COSMETIC_AND_FOOD':0,'COSMETIC':1,'FOOD':2})\n",
    "customers_clean['CUSTOMER_GROUP'] = customers_clean['CUSTOMER_GROUP'].replace({'MULTI_BUYER':0,'SINGLE_BUYER':1})\n",
    "customers_clean['PRODUCT_GROUP'] = customers_clean['PRODUCT_GROUP'].astype('int')\n",
    "customers_clean['CUSTOMER_GROUP'] = customers_clean['CUSTOMER_GROUP'].astype('int')\n",
    "customers_clean['ONLINE_PURCHASE'] = customers_clean['ONLINE_PURCHASE'].astype('int')"
   ]
  },
  {
   "cell_type": "markdown",
   "metadata": {},
   "source": [
    "The number of columns in the dataset is too large, and clustering takes a long time. By reducing the number of features using PCA the amount of time to do the clustering is reduced without sacrifing a lot of information loss.\n",
    "\n",
    "However, before we can proceed with the principal component analysis we need to scale the data. \n",
    "\n",
    "It's important to remark that all the next steps will be done on the whole population dataset and whatever the transformers and predictors learn from the whole population will be applied to the customer dataset"
   ]
  },
  {
   "cell_type": "code",
   "execution_count": 18,
   "metadata": {},
   "outputs": [],
   "source": [
    "scaler = StandardScaler()\n",
    "azdias_scaled = scaler.fit_transform(azdias_clean)"
   ]
  },
  {
   "cell_type": "markdown",
   "metadata": {},
   "source": [
    "Now that the dataframe is scaled, let's run PCA on it and let's see how each component contributes to explaining the variabliity of the data"
   ]
  },
  {
   "cell_type": "code",
   "execution_count": 19,
   "metadata": {},
   "outputs": [],
   "source": [
    "mypca = PCA()\n",
    "azdias_pcaed = mypca.fit_transform(azdias_scaled)"
   ]
  },
  {
   "cell_type": "markdown",
   "metadata": {},
   "source": [
    "Let's plot the results"
   ]
  },
  {
   "cell_type": "code",
   "execution_count": 20,
   "metadata": {},
   "outputs": [
    {
     "data": {
      "text/plain": [
       "[<matplotlib.lines.Line2D at 0x2151c42c5f8>]"
      ]
     },
     "execution_count": 20,
     "metadata": {},
     "output_type": "execute_result"
    },
    {
     "data": {
      "image/png": "[encoded data removed]",
      "text/plain": [
       "<Figure size 720x360 with 2 Axes>"
      ]
     },
     "metadata": {
      "needs_background": "light"
     },
     "output_type": "display_data"
    }
   ],
   "source": [
    "plt.figure(figsize=(10,5))\n",
    "plt.subplot(1,2,1)\n",
    "plt.title('ratio variance per component')\n",
    "plt.plot(mypca.explained_variance_ratio_,'*')\n",
    "plt.subplot(1,2,2)\n",
    "plt.title('cumulative variance per number of components')\n",
    "plt.plot(mypca.explained_variance_ratio_.cumsum())"
   ]
  },
  {
   "cell_type": "markdown",
   "metadata": {},
   "source": [
    "The curves above take the expected shape with the first few principal components explaining most of the dataset's variability. However, so as to know how many components to keep, let's take a zoomed picture on the area between 30 and 100 components as it's seems there is a bit of an elbow there"
   ]
  },
  {
   "cell_type": "code",
   "execution_count": 21,
   "metadata": {},
   "outputs": [
    {
     "data": {
      "image/png": "[encoded data removed]",
      "text/plain": [
       "<Figure size 432x288 with 1 Axes>"
      ]
     },
     "metadata": {
      "needs_background": "light"
     },
     "output_type": "display_data"
    }
   ],
   "source": [
    "plt.plot(mypca.explained_variance_ratio_,'*')\n",
    "plt.axis([30,120, 0, 0.005]);\n",
    "plt.grid()\n",
    "# Keep 70"
   ]
  },
  {
   "cell_type": "markdown",
   "metadata": {},
   "source": [
    "The picture above shows that around 70 compoennts there is a bit of an elbow. It corresponds to a 0.3% of variability explained by that last component. Let's therefore keep 70 compoennts for the ensuing analysis"
   ]
  },
  {
   "cell_type": "code",
   "execution_count": 22,
   "metadata": {},
   "outputs": [],
   "source": [
    "mypca = PCA(n_components=70)\n",
    "azdias_pcaed = mypca.fit_transform(azdias_scaled)"
   ]
  },
  {
   "cell_type": "markdown",
   "metadata": {},
   "source": [
    "Just out of pure curiosity, let's see what the first component represents. Below there is a plot that takes the first 5 features that are directly proportional contributors and also the 5 that are indirectly proportional contributors"
   ]
  },
  {
   "cell_type": "code",
   "execution_count": 23,
   "metadata": {},
   "outputs": [
    {
     "data": {
      "text/plain": [
       "<matplotlib.axes._subplots.AxesSubplot at 0x2151c676e80>"
      ]
     },
     "execution_count": 23,
     "metadata": {},
     "output_type": "execute_result"
    },
    {
     "data": {
      "image/png": "[encoded data removed]",
      "text/plain": [
       "<Figure size 432x288 with 1 Axes>"
      ]
     },
     "metadata": {
      "needs_background": "light"
     },
     "output_type": "display_data"
    }
   ],
   "source": [
    "# Map weights for the first principal component to corresponding feature names\n",
    "# and then print the linked values, sorted by weight.\n",
    "# HINT: Try defining a function here or in a new cell that you can reuse in the\n",
    "# other cells.\n",
    "def featurefromcomponentAnalysis(componentvector, listcolumns,compNumber):\n",
    "    return sorted([(col,comp) for col,comp in zip(listcolumns,componentvector[compNumber])],key=lambda x: x[1])\n",
    "\n",
    "resultsFirst = featurefromcomponentAnalysis(mypca.components_,azdias_clean.columns,0)\n",
    "tmpdf = pd.DataFrame(resultsFirst[0:5] + resultsFirst[-5:])#.plot(kind='barh')\n",
    "tmpdf =tmpdf.set_index(tmpdf[0]).drop(columns=0)\n",
    "tmpdf.plot(kind='barh')"
   ]
  },
  {
   "cell_type": "markdown",
   "metadata": {},
   "source": [
    "MOBI_REGIO - moving patterns, very high mobility - very low mobility     \n",
    "PLZ8-ANTG1 - number of 1-2 familiyt houses: none - very high share    \n",
    "LP_STATUS_FEIN - social status : typical low-income - top earners    \n",
    "PLZ8_ANTG3 - number of 6-10 family houses in the PLZ8: none - high share    \n",
    "HH_EINKOMMEN_SCORE - INCOME - highest income, very low income    \n",
    "\n",
    "So overall it seems that the principal compoent is associated with high earners that live in areas where there are small families and they themselves have not got a big family either"
   ]
  },
  {
   "cell_type": "code",
   "execution_count": 24,
   "metadata": {
    "scrolled": true
   },
   "outputs": [
    {
     "data": {
      "text/plain": [
       "<matplotlib.axes._subplots.AxesSubplot at 0x2151c92cf60>"
      ]
     },
     "execution_count": 24,
     "metadata": {},
     "output_type": "execute_result"
    },
    {
     "data": {
      "image/png": "[encoded data removed]",
      "text/plain": [
       "<Figure size 432x288 with 1 Axes>"
      ]
     },
     "metadata": {
      "needs_background": "light"
     },
     "output_type": "display_data"
    }
   ],
   "source": [
    "# Map weights for the second principal component to corresponding feature names\n",
    "# and then print the linked values, sorted by weight.\n",
    "resultsSecond = featurefromcomponentAnalysis(mypca.components_,azdias_clean.columns,1)\n",
    "tmpdf = pd.DataFrame(resultsSecond[0:5] + resultsSecond[-5:])#.plot(kind='barh')\n",
    "tmpdf =tmpdf.set_index(tmpdf[0]).drop(columns=0)\n",
    "tmpdf.plot(kind='barh')"
   ]
  },
  {
   "cell_type": "markdown",
   "metadata": {},
   "source": [
    "On the other hand the second component is more about online activity and how keen each individual is on making online transactions"
   ]
  },
  {
   "cell_type": "code",
   "execution_count": 25,
   "metadata": {},
   "outputs": [
    {
     "data": {
      "text/plain": [
       "<matplotlib.axes._subplots.AxesSubplot at 0x2151c6b80f0>"
      ]
     },
     "execution_count": 25,
     "metadata": {},
     "output_type": "execute_result"
    },
    {
     "data": {
      "image/png": "[encoded data removed]",
      "text/plain": [
       "<Figure size 432x288 with 1 Axes>"
      ]
     },
     "metadata": {
      "needs_background": "light"
     },
     "output_type": "display_data"
    }
   ],
   "source": [
    "# Map weights for the second principal component to corresponding feature names\n",
    "# and then print the linked values, sorted by weight.\n",
    "resultsSecond = featurefromcomponentAnalysis(mypca.components_,azdias_clean.columns,2)\n",
    "tmpdf = pd.DataFrame(resultsSecond[0:5] + resultsSecond[-5:])#.plot(kind='barh')\n",
    "tmpdf =tmpdf.set_index(tmpdf[0]).drop(columns=0)\n",
    "tmpdf.plot(kind='barh')"
   ]
  },
  {
   "cell_type": "code",
   "execution_count": 26,
   "metadata": {},
   "outputs": [
    {
     "data": {
      "text/plain": [
       "<matplotlib.axes._subplots.AxesSubplot at 0x2151cde45f8>"
      ]
     },
     "execution_count": 26,
     "metadata": {},
     "output_type": "execute_result"
    },
    {
     "data": {
      "image/png": "[encoded data removed]",
      "text/plain": [
       "<Figure size 432x288 with 1 Axes>"
      ]
     },
     "metadata": {
      "needs_background": "light"
     },
     "output_type": "display_data"
    }
   ],
   "source": [
    "# Map weights for the second principal component to corresponding feature names\n",
    "# and then print the linked values, sorted by weight.\n",
    "resultsSecond = featurefromcomponentAnalysis(mypca.components_,azdias_clean.columns,3)\n",
    "tmpdf = pd.DataFrame(resultsSecond[0:5] + resultsSecond[-5:])#.plot(kind='barh')\n",
    "tmpdf =tmpdf.set_index(tmpdf[0]).drop(columns=0)\n",
    "tmpdf.plot(kind='barh')"
   ]
  },
  {
   "cell_type": "markdown",
   "metadata": {},
   "source": [
    "Now htat the amount of features has been reduced, let's do an analysis on how many clusters make sense to have using KMeans clustering technique"
   ]
  },
  {
   "cell_type": "code",
   "execution_count": 27,
   "metadata": {},
   "outputs": [
    {
     "name": "stdout",
     "output_type": "stream",
     "text": [
      "2\n",
      "3\n",
      "4\n",
      "5\n",
      "6\n",
      "7\n",
      "8\n",
      "9\n",
      "10\n",
      "11\n",
      "12\n",
      "13\n",
      "14\n"
     ]
    }
   ],
   "source": [
    "# Over a number of different cluster counts...\n",
    "results = []\n",
    "# Append results in a list to ease plotting in the following cell\n",
    "if 1:\n",
    "    for nclusters in range(2,15):\n",
    "        print(nclusters)\n",
    "        myclustering = KMeans(n_clusters=nclusters)\n",
    "        # run k-means clustering on the data and...\n",
    "        myclustering.fit(azdias_pcaed)\n",
    "\n",
    "        # compute the average within-cluster distances.\n",
    "        results.append(myclustering.score(azdias_pcaed)*-1)"
   ]
  },
  {
   "cell_type": "markdown",
   "metadata": {},
   "source": [
    "Let's plot the information calculated above. Also, let's draw a red line to find out where the elbow is and so it will help us calculate the number of clusters to use"
   ]
  },
  {
   "cell_type": "code",
   "execution_count": 28,
   "metadata": {
    "scrolled": false
   },
   "outputs": [
    {
     "data": {
      "text/plain": [
       "[<matplotlib.lines.Line2D at 0x2151cfa97b8>]"
      ]
     },
     "execution_count": 28,
     "metadata": {},
     "output_type": "execute_result"
    },
    {
     "data": {
      "image/png": "[encoded data removed]",
      "text/plain": [
       "<Figure size 432x288 with 1 Axes>"
      ]
     },
     "metadata": {
      "needs_background": "light"
     },
     "output_type": "display_data"
    }
   ],
   "source": [
    "if 1:\n",
    "    plt.plot(list(range(2,15)),results,linestyle='--', marker='o', color='b')\n",
    "    plt.plot()\n",
    "\n",
    "model = LinearRegression()\n",
    "model.fit(X=np.asarray([[9,10,11,12,13,14]]).reshape(6,1), y=results[7:14])\n",
    "predicted =model.predict(np.asarray(range(2,9)).reshape(-1,1))\n",
    "plt.plot(list(range(2,15)),np.asarray(list(predicted.reshape(-1,1)) + list(results[7:14])),'r')"
   ]
  },
  {
   "cell_type": "markdown",
   "metadata": {},
   "source": [
    "Given the above, it seems that 9 clusters is the right amount of clusters in which to divide the whole population. Let's therefore use n_clusters = 9 and work with that number"
   ]
  },
  {
   "cell_type": "code",
   "execution_count": 29,
   "metadata": {},
   "outputs": [
    {
     "data": {
      "text/plain": [
       "KMeans(algorithm='auto', copy_x=True, init='k-means++', max_iter=300,\n",
       "       n_clusters=9, n_init=10, n_jobs=None, precompute_distances='auto',\n",
       "       random_state=None, tol=0.0001, verbose=0)"
      ]
     },
     "execution_count": 29,
     "metadata": {},
     "output_type": "execute_result"
    }
   ],
   "source": [
    "# Re-fit the k-means model with the selected number of clusters and obtain\n",
    "# cluster predictions for the general population demographics data.\n",
    "# Given the graph above the elbow seems to be at k=8 clusters\n",
    "myclustering = KMeans(n_clusters=9)\n",
    "myclustering.fit(azdias_pcaed)"
   ]
  },
  {
   "cell_type": "code",
   "execution_count": 30,
   "metadata": {},
   "outputs": [
    {
     "data": {
      "text/plain": [
       "array([8, 3, 2, 2, 3, 2, 2])"
      ]
     },
     "execution_count": 30,
     "metadata": {},
     "output_type": "execute_result"
    }
   ],
   "source": [
    "# Get a few predictions to check that it works\n",
    "myclustering.predict(azdias_pcaed[100:107,:])"
   ]
  },
  {
   "cell_type": "markdown",
   "metadata": {},
   "source": [
    "Now that we've got all transformers and predictors trained, let's remove the columns from the customers dataset that are different to the whole population dataset and use the transformers to get a modified customers dataset"
   ]
  },
  {
   "cell_type": "code",
   "execution_count": 31,
   "metadata": {},
   "outputs": [],
   "source": [
    "customers_clean2 = customers_clean.drop(columns=['PRODUCT_GROUP','CUSTOMER_GROUP','ONLINE_PURCHASE'])\n",
    "customers_clean2 = scaler.transform(customers_clean2)\n",
    "customers_clean2 = mypca.transform(customers_clean2)\n",
    "customers_clusters = myclustering.predict(customers_clean2)"
   ]
  },
  {
   "cell_type": "markdown",
   "metadata": {},
   "source": [
    "Now, let's compare the proportion of data in each cluster for both the customer dataset and the population's dataset"
   ]
  },
  {
   "cell_type": "code",
   "execution_count": 32,
   "metadata": {},
   "outputs": [
    {
     "data": {
      "text/plain": [
       "4"
      ]
     },
     "execution_count": 32,
     "metadata": {},
     "output_type": "execute_result"
    }
   ],
   "source": [
    "myl = [1,4,2,5,7]\n",
    "myl.index(7)"
   ]
  },
  {
   "cell_type": "code",
   "execution_count": 33,
   "metadata": {},
   "outputs": [
    {
     "data": {
      "image/png": "[encoded data removed]",
      "text/plain": [
       "<Figure size 720x360 with 2 Axes>"
      ]
     },
     "metadata": {
      "needs_background": "light"
     },
     "output_type": "display_data"
    }
   ],
   "source": [
    "# predict clusters for all individuals in the general population\n",
    "predict_generalpop = myclustering.predict(azdias_pcaed)\n",
    "predict_generalpop.shape, customers_clusters.shape\n",
    "# create a dataframe to use pandas methods\n",
    "generalpop = pd.DataFrame(predict_generalpop)\n",
    "# get each cluster's proportion\n",
    "generalpopProportions = generalpop[0].value_counts()/generalpop.shape[0]\n",
    "# Do similarly for the customer dataset\n",
    "customerbase = pd.DataFrame(customers_clusters)\n",
    "customerProportions = customerbase[0].value_counts()/customerbase.shape[0]\n",
    "# Sort the dataframes using the index\n",
    "customerProportions = customerProportions.sort_index()\n",
    "generalpopProportions = generalpopProportions.sort_index()\n",
    "overrepresentedclusterList= list((customerProportions/generalpopProportions).sort_values(ascending = False).index)\n",
    "colors = []\n",
    "for i in range(9):\n",
    "    colors.append('r' if overrepresentedclusterList.index(i) > 3 else 'g' if overrepresentedclusterList.index(i) < 3 else 'b')\n",
    "plt.figure(figsize=(10,5))\n",
    "plt.subplot(1,2,1)\n",
    "plt.bar(x=generalpopProportions.index,height=np.asarray(generalpopProportions))\n",
    "xmin,xmax,ymin,ymax = plt.axis()\n",
    "plt.axis([xmin,xmax,0,0.5])\n",
    "plt.title('General Population proportions per cluster')\n",
    "plt.subplot(1,2,2)\n",
    "plt.bar(x=customerProportions.index,height=np.asarray(customerProportions),color=colors)\n",
    "plt.axis([xmin,xmax,0,0.5])\n",
    "plt.title('Customer proportions per cluster')\n",
    "overrepresentedclusterList = overrepresentedclusterList[0:3]"
   ]
  },
  {
   "cell_type": "markdown",
   "metadata": {},
   "source": [
    "So the graph above can be analysed as follows:\n",
    "\n",
    "- There are three clusters from the overall population that are more likely to be customers for this company. These are clusters number 1, 3 and 4.\n",
    "\n",
    "- There is one cluster that it's pretty much represented equally in both datasets.\n",
    "\n",
    "- Five clusters (number 0, 5, 6, 7 and 8) are underrepresented in the customer dataset. This means that these groups are unlikely to be customers of this company"
   ]
  },
  {
   "cell_type": "markdown",
   "metadata": {},
   "source": [
    "In order to find out what are the characteristics of each cluster, let's look at the features that are more relevant to describe each of them.\n",
    "\n",
    "In particular we'll be looking at the features that help explain the first three principal components, both positively and negatively correlated. These features are\n",
    "\n",
    "Positively correlated\n",
    "- MOBI_REGIO\n",
    "- PLZ8_ANT1\n",
    "- D19_GESAMT_ANZ_24\n",
    "- ONLINE_AFFINITAET\n",
    "- KBA13_HERST_BMW_BENZ\n",
    "- KBA13_SEG_OBEREMITTELKLASSE\n",
    "\n",
    "Negatively correlated\n",
    "- KBA13_ANTG3\n",
    "- HH_EINKOMMEN_SCORE\n",
    "- D19_GESAMT_ONLINE_DATUM\n",
    "- VK_DHT4A\n",
    "- KBA13_SITZE_5\n",
    "- CJT_TYP_3"
   ]
  },
  {
   "cell_type": "code",
   "execution_count": 34,
   "metadata": {},
   "outputs": [
    {
     "data": {
      "image/png": "[encoded data removed]",
      "text/plain": [
       "<Figure size 1440x2880 with 8 Axes>"
      ]
     },
     "metadata": {
      "needs_background": "light"
     },
     "output_type": "display_data"
    }
   ],
   "source": [
    "def extractindividualsFromCluster(df_genpop,predict_generalpop,clusternumber):\n",
    "    genpop = pd.DataFrame(predict_generalpop)\n",
    "    return df_genpop[predict_generalpop==clusternumber]\n",
    "\n",
    "def valueCountsPerCluster(df,feature,clusterlist,predict_generalpop):\n",
    "    cluster = extractindividualsFromCluster(df,predict_generalpop,clusterlist[0])[feature].value_counts().reset_index().sort_values(['index']).set_index('index').rename(columns={feature:'cluster{}'.format(clusterlist[0])})\n",
    "    cluster = cluster/cluster.sum()\n",
    "    \n",
    "    for clusternum in clusterlist[1:]:\n",
    "        clustertmp = extractindividualsFromCluster(df,predict_generalpop,clusternum)[feature].value_counts().reset_index().sort_values(['index']).set_index('index').rename(columns={feature:'cluster{}'.format(clusternum)})\n",
    "        clustertmp = clustertmp/clustertmp.sum()\n",
    "        cluster = cluster.merge(clustertmp, how='outer', left_index=True, right_index=True)\n",
    "    return pd.melt(cluster.reset_index(),['index'])\n",
    "\n",
    "#valueCountsPerCluster(azdias_clean,'MOBI_REGIO',[3,4,6],predict_generalpop).plot.bar(title='MOBI_REGIO');\n",
    "#sns.barplot(valueCountsPerCluster(azdias_clean,'MOBI_REGIO',[3,4,6],predict_generalpop))\n",
    "features = ['MOBI_REGIO','PLZ8_ANTG1','D19_GESAMT_ANZ_24','ONLINE_AFFINITAET','KBA13_HERST_BMW_BENZ','KBA13_SEG_OBEREMITTELKLASSE','FINANZ_VORSORGER', 'ALTERSKATEGORIE_GROB']\n",
    "plt.figure(figsize=(20,len(features)/2*10))\n",
    "for i,feature in enumerate(features):\n",
    "    plt.subplot(len(features)/2,2,i+1)\n",
    "    dftoplot = valueCountsPerCluster(azdias_clean,feature,overrepresentedclusterList,predict_generalpop)\n",
    "    sns.barplot(data=dftoplot,x='index',y='value',hue='variable')\n",
    "    plt.title(feature)\n",
    "    plt.xlabel('Features values')\n",
    "    plt.ylabel('Proportion of individuals')\n",
    "    \n",
    "    "
   ]
  },
  {
   "cell_type": "code",
   "execution_count": 35,
   "metadata": {},
   "outputs": [
    {
     "data": {
      "image/png": "[encoded data removed]",
      "text/plain": [
       "<Figure size 1440x2880 with 8 Axes>"
      ]
     },
     "metadata": {
      "needs_background": "light"
     },
     "output_type": "display_data"
    }
   ],
   "source": [
    "features = ['KBA13_ANTG3','HH_EINKOMMEN_SCORE','D19_GESAMT_ONLINE_DATUM','VK_DHT4A','KBA13_SITZE_5','CJT_TYP_3','FINANZ_SPARER', 'PRAEGENDE_JUGENDJAHRE']\n",
    "plt.figure(figsize=(20,len(features)/2*10))\n",
    "for i,feature in enumerate(features):\n",
    "    plt.subplot(len(features)/2,2,i+1)\n",
    "    dftoplot = valueCountsPerCluster(azdias_clean,feature,overrepresentedclusterList,predict_generalpop)\n",
    "    sns.barplot(data=dftoplot,x='index',y='value',hue='variable')\n",
    "    plt.title(feature)\n",
    "    plt.xlabel('Features values')\n",
    "    plt.ylabel('Proportion of individuals')"
   ]
  },
  {
   "cell_type": "markdown",
   "metadata": {},
   "source": [
    "It was observed above, that there are three clusters that are overrepresented when compared to the others. Also there is a cluster that is similarly represented in both population and customer datasets.\n",
    "\n",
    "If the company wants to target individuals of the whole population, ideally it should start with those individuals that are not customers already but are part of the overrepresented clusters as this indicates that the probability of them becoming customers is higher. Therefore there are three clusters that we will pay attention to. Cluster numbers appear in the legend for each plot and they are ordered according to the most overrepresented to the least overrepresented.\n",
    "\n",
    "The first set of plots contains the two main features that contribute to explain each of the four first principal components. What each principal component is about has been described above. \n",
    "The second set of plots contains two main negative features for each of the principal components\n",
    "\n",
    "The most overrepresented cluster seems to indicate that individuals meet the following description\n",
    " - Individuals with certain amount of mobility\n",
    " - That live in areas with an average number of neighbours\n",
    " - The number of transactions for these individuals in the past has been low or very low\n",
    " - They've got a moderate use of the internet\n",
    " - They like have a high share of middle class and upper class cars\n",
    " - This group of people does not seem to have a lot in cash (this is my interpretation of \"be prepared\")\n",
    " - This group's age is around 50 years old\n",
    " - Income-wise this group could be clasified as average/above average\n",
    "\n",
    "\n",
    "The second most overrepresented cluster\n",
    " - Individuals with little or no mobility\n",
    " - That live in areas where there are with very few or no neighbours\n",
    " - The number of transactions for these individuals in the past has been low or very low\n",
    " - They've got low to moderate use of the internet\n",
    " - They don't seem to have a higher than average share of expensive cars\n",
    " - This group of people does not seem to have a lot in cash (this is my interpretation of \"be prepared\")\n",
    " - This group's age is around 65 years old\n",
    " - Income-wise this group could be clasified as average/above average\n",
    " \n",
    "Finally, a description for the third most overreprented cluster\n",
    " - Individuals with little or no mobility\n",
    " - That live in areas where there are with very few or no neighbours\n",
    " - The number of transactions for these individuals in the past has been moderate to high\n",
    " - They are very active online\n",
    " - They don't seem to have a higher than average share of expensive cars\n",
    " - This group of people does not seem to have a lot in cash (this is my interpretation of \"be prepared\")\n",
    " - This group's age is around 45 years old\n",
    " - Income-wise this group could be clasified as above average"
   ]
  },
  {
   "cell_type": "markdown",
   "metadata": {},
   "source": [
    "## Part 2: Supervised Learning Model\n",
    "\n",
    "Now that you've found which parts of the population are more likely to be customers of the mail-order company, it's time to build a prediction model. Each of the rows in the \"MAILOUT\" data files represents an individual that was targeted for a mailout campaign. Ideally, we should be able to use the demographic information from each individual to decide whether or not it will be worth it to include that person in the campaign.\n",
    "\n",
    "The \"MAILOUT\" data has been split into two approximately equal parts, each with almost 43 000 data rows. In this part, you can verify your model with the \"TRAIN\" partition, which includes a column, \"RESPONSE\", that states whether or not a person became a customer of the company following the campaign. In the next part, you'll need to create predictions on the \"TEST\" partition, where the \"RESPONSE\" column has been withheld."
   ]
  },
  {
   "cell_type": "code",
   "execution_count": 36,
   "metadata": {},
   "outputs": [
    {
     "name": "stdout",
     "output_type": "stream",
     "text": [
      "1 - Loading dataframes from csv files\n"
     ]
    },
    {
     "name": "stderr",
     "output_type": "stream",
     "text": [
      "C:\\Users\\alejanma\\AppData\\Local\\Continuum\\anaconda3\\lib\\site-packages\\IPython\\core\\interactiveshell.py:3248: DtypeWarning: Columns (19,20) have mixed types. Specify dtype option on import or set low_memory=False.\n",
      "  if (await self.run_code(code, result,  async_=asy)):\n"
     ]
    },
    {
     "name": "stdout",
     "output_type": "stream",
     "text": [
      "2 - Drop duplicates\n",
      "3 - Change invalid values to np.nan\n",
      "4 - Removing individuals with more than 50 features missing\n",
      "5 - Removing features that are missing more than a number of invidivuals\n",
      "6 - Engineer the features that have string type\n",
      "7 - Now impute missing values for the numberical features. Num Rows: 33836\n",
      "0/65\n",
      "1/65\n",
      "2/65\n",
      "3/65\n",
      "4/65\n",
      "5/65\n",
      "6/65\n",
      "7/65\n",
      "8/65\n",
      "9/65\n",
      "10/65\n",
      "11/65\n",
      "12/65\n",
      "13/65\n",
      "14/65\n",
      "15/65\n",
      "16/65\n",
      "17/65\n",
      "18/65\n",
      "19/65\n",
      "20/65\n",
      "21/65\n",
      "22/65\n",
      "23/65\n",
      "24/65\n",
      "25/65\n",
      "26/65\n",
      "27/65\n",
      "28/65\n",
      "29/65\n",
      "30/65\n",
      "31/65\n",
      "32/65\n",
      "33/65\n",
      "34/65\n",
      "35/65\n",
      "36/65\n",
      "37/65\n",
      "38/65\n",
      "39/65\n",
      "40/65\n",
      "41/65\n",
      "42/65\n",
      "43/65\n",
      "44/65\n",
      "45/65\n",
      "46/65\n",
      "47/65\n",
      "48/65\n",
      "49/65\n",
      "50/65\n",
      "51/65\n",
      "52/65\n",
      "53/65\n",
      "54/65\n",
      "55/65\n",
      "56/65\n",
      "57/65\n",
      "58/65\n",
      "59/65\n",
      "60/65\n",
      "61/65\n",
      "62/65\n",
      "63/65\n",
      "64/65\n",
      "8 - Change features that float to int\n",
      "9 - Load the cleaned dataframes onto csv files\n"
     ]
    }
   ],
   "source": [
    "df_train = ETLPipelineSingleDf('../train.csv','../trainClean.csv')"
   ]
  },
  {
   "cell_type": "markdown",
   "metadata": {},
   "source": [
    "This is a very very unbalance dataset... accuracy is probably not the best metric to optimize. Instead, the idea is to have a good recall so we categorize as 1 all those that are trully 1s."
   ]
  },
  {
   "cell_type": "code",
   "execution_count": 37,
   "metadata": {},
   "outputs": [
    {
     "data": {
      "text/plain": [
       "0.012294597470150137"
      ]
     },
     "execution_count": 37,
     "metadata": {},
     "output_type": "execute_result"
    }
   ],
   "source": [
    "df_train.RESPONSE.value_counts()[1]/df_train.shape[0]"
   ]
  },
  {
   "cell_type": "markdown",
   "metadata": {},
   "source": [
    "I've used gradient boosting a number of times with excelent results. It performs better than random forest in most cases and it's been widely used by Kaggle contest winners. So let's create a model where a few parameters need to be fine-tuned to get the best model possible."
   ]
  },
  {
   "cell_type": "code",
   "execution_count": 38,
   "metadata": {},
   "outputs": [],
   "source": [
    "def addClusterCol(df,colsToDrop,scaler,mypca,myclustering):\n",
    "    df2 = df.drop(columns=colsToDrop)\n",
    "    df2 = scaler.transform(df2)\n",
    "    df2 = mypca.transform(df2)\n",
    "    df['cluster'] = myclustering.predict(df2)\n",
    "    return df\n",
    "\n",
    "def buildModel():\n",
    "    pipeline = Pipeline([\n",
    "    ('clf', GradientBoostingClassifier(random_state=0))\n",
    "    ])\n",
    "\n",
    "    parameters = {\n",
    "        'clf__learning_rate': [0.005,0.01,0.05],\n",
    "        'clf__n_estimators': [200,300,350,400],\n",
    "        'clf__max_depth': list(range(4,12,2)) }\n",
    "    scorer = make_scorer(recall_score)\n",
    "    cv = GridSearchCV(pipeline, param_grid=parameters,scoring=scorer,cv=3,verbose=1,n_jobs=4)\n",
    "\n",
    "    return cv"
   ]
  },
  {
   "cell_type": "markdown",
   "metadata": {},
   "source": [
    "Since the dataset is so unbalance, let's create one dataframe where we've got more equal numbers between positive and negative responses. The problem with using all training data is that it will likely overfit for negative response even if the scorer selected for cross validation is \"recall\". Let's get all positive responses and twice as many negative responses and collect those into a new dataset."
   ]
  },
  {
   "cell_type": "code",
   "execution_count": 44,
   "metadata": {},
   "outputs": [
    {
     "name": "stdout",
     "output_type": "stream",
     "text": [
      "Fitting 3 folds for each of 48 candidates, totalling 144 fits\n"
     ]
    },
    {
     "name": "stderr",
     "output_type": "stream",
     "text": [
      "[Parallel(n_jobs=4)]: Using backend LokyBackend with 4 concurrent workers.\n",
      "[Parallel(n_jobs=4)]: Done  42 tasks      | elapsed:  2.3min\n",
      "[Parallel(n_jobs=4)]: Done 144 out of 144 | elapsed:  7.8min finished\n"
     ]
    },
    {
     "name": "stdout",
     "output_type": "stream",
     "text": [
      "recall score: 0.5348837209302325\n"
     ]
    },
    {
     "data": {
      "text/plain": [
       "Pipeline(memory=None,\n",
       "         steps=[('clf',\n",
       "                 GradientBoostingClassifier(criterion='friedman_mse', init=None,\n",
       "                                            learning_rate=0.01, loss='deviance',\n",
       "                                            max_depth=6, max_features=None,\n",
       "                                            max_leaf_nodes=None,\n",
       "                                            min_impurity_decrease=0.0,\n",
       "                                            min_impurity_split=None,\n",
       "                                            min_samples_leaf=1,\n",
       "                                            min_samples_split=2,\n",
       "                                            min_weight_fraction_leaf=0.0,\n",
       "                                            n_estimators=200,\n",
       "                                            n_iter_no_change=None,\n",
       "                                            presort='auto', random_state=0,\n",
       "                                            subsample=1.0, tol=0.0001,\n",
       "                                            validation_fraction=0.1, verbose=0,\n",
       "                                            warm_start=False))],\n",
       "         verbose=False)"
      ]
     },
     "execution_count": 44,
     "metadata": {},
     "output_type": "execute_result"
    }
   ],
   "source": [
    "# Tweak the dataset so we've got a more balanced dataset\n",
    "df_train = pd.read_csv('../trainClean.csv')\n",
    "\n",
    "df1 = df_train[df_train['RESPONSE'] == 1]\n",
    "df2 = df_train[df_train['RESPONSE'] != 1]\n",
    "df2 = df2.sample(df1.shape[0]*2)\n",
    "df3 = pd.concat([df1,df2])\n",
    "\n",
    "# Add the cluster column from the previous part as this is our new engineered feature\n",
    "df_train = addClusterCol(df3,['RESPONSE'],scaler,mypca,myclustering)\n",
    "# Let's split the dataset into train and test\n",
    "X_train, X_test, y_train, y_test = train_test_split(df3.drop(columns='RESPONSE'),  df3['RESPONSE'], random_state=1,test_size=0.1)\n",
    "# Build a model using a pipeline and grid search\n",
    "model = buildModel()\n",
    "# Train the model\n",
    "model.fit(X_train,y_train)\n",
    "# Get the best estimator\n",
    "best_clf = model.best_estimator_\n",
    "# Calculate the recall score\n",
    "pred= best_clf.predict(X_test)\n",
    "print('recall score: {}'.format(recall_score(y_test,pred)))\n",
    "best_clf"
   ]
  },
  {
   "cell_type": "markdown",
   "metadata": {},
   "source": [
    "## Part 3: Kaggle Competition\n",
    "\n",
    "Now that you've created a model to predict which individuals are most likely to respond to a mailout campaign, it's time to test that model in competition through Kaggle. If you click on the link [here](http://www.kaggle.com/t/21e6d45d4c574c7fa2d868f0e8c83140), you'll be taken to the competition page where, if you have a Kaggle account, you can enter. If you're one of the top performers, you may have the chance to be contacted by a hiring manager from Arvato or Bertelsmann for an interview!\n",
    "\n",
    "Your entry to the competition should be a CSV file with two columns. The first column should be a copy of \"LNR\", which acts as an ID number for each individual in the \"TEST\" partition. The second column, \"RESPONSE\", should be some measure of how likely each individual became a customer – this might not be a straightforward probability. As you should have found in Part 2, there is a large output class imbalance, where most individuals did not respond to the mailout. Thus, predicting individual classes and using accuracy does not seem to be an appropriate performance evaluation method. Instead, the competition will be using AUC to evaluate performance. The exact values of the \"RESPONSE\" column do not matter as much: only that the higher values try to capture as many of the actual customers as possible, early in the ROC curve sweep."
   ]
  },
  {
   "cell_type": "code",
   "execution_count": 40,
   "metadata": {},
   "outputs": [
    {
     "name": "stdout",
     "output_type": "stream",
     "text": [
      "1 - Loading dataframes from csv files\n"
     ]
    },
    {
     "name": "stderr",
     "output_type": "stream",
     "text": [
      "C:\\Users\\alejanma\\AppData\\Local\\Continuum\\anaconda3\\lib\\site-packages\\IPython\\core\\interactiveshell.py:3248: DtypeWarning: Columns (19,20) have mixed types. Specify dtype option on import or set low_memory=False.\n",
      "  if (await self.run_code(code, result,  async_=asy)):\n"
     ]
    },
    {
     "name": "stdout",
     "output_type": "stream",
     "text": [
      "2 - Drop duplicates\n",
      "3 - Change invalid values to np.nan\n",
      "4 - Removing individuals with more than 50 features missing\n",
      "5 - Removing features that are missing more than a number of invidivuals\n",
      "6 - Engineer the features that have string type\n",
      "7 - Now impute missing values for the numberical features. Num Rows: 33818\n",
      "0/66\n",
      "1/66\n",
      "2/66\n",
      "3/66\n",
      "4/66\n",
      "5/66\n",
      "6/66\n",
      "7/66\n",
      "8/66\n",
      "9/66\n",
      "10/66\n",
      "11/66\n",
      "12/66\n",
      "13/66\n",
      "14/66\n",
      "15/66\n",
      "16/66\n",
      "17/66\n",
      "18/66\n",
      "19/66\n",
      "20/66\n",
      "21/66\n",
      "22/66\n",
      "23/66\n",
      "24/66\n",
      "25/66\n",
      "26/66\n",
      "27/66\n",
      "28/66\n",
      "29/66\n",
      "30/66\n",
      "31/66\n",
      "32/66\n",
      "33/66\n",
      "34/66\n",
      "35/66\n",
      "36/66\n",
      "37/66\n",
      "38/66\n",
      "39/66\n",
      "40/66\n",
      "41/66\n",
      "42/66\n",
      "43/66\n",
      "44/66\n",
      "45/66\n",
      "46/66\n",
      "47/66\n",
      "48/66\n",
      "49/66\n",
      "50/66\n",
      "51/66\n",
      "52/66\n",
      "53/66\n",
      "54/66\n",
      "55/66\n",
      "56/66\n",
      "57/66\n",
      "58/66\n",
      "59/66\n",
      "60/66\n",
      "61/66\n",
      "62/66\n",
      "63/66\n",
      "64/66\n",
      "65/66\n",
      "8 - Change features that float to int\n",
      "9 - Load the cleaned dataframes onto csv files\n"
     ]
    }
   ],
   "source": [
    "df_test = ETLPipelineSingleDf('../test.csv','../testClean.csv',True)"
   ]
  },
  {
   "cell_type": "code",
   "execution_count": 45,
   "metadata": {},
   "outputs": [
    {
     "name": "stderr",
     "output_type": "stream",
     "text": [
      "C:\\Users\\alejanma\\AppData\\Local\\Continuum\\anaconda3\\lib\\site-packages\\IPython\\core\\interactiveshell.py:3057: DtypeWarning: Columns (19,20) have mixed types. Specify dtype option on import or set low_memory=False.\n",
      "  interactivity=interactivity, compiler=compiler, result=result)\n"
     ]
    }
   ],
   "source": [
    "df_test = pd.read_csv('../testClean.csv')\n",
    "df_test_2 = pd.read_csv('../test.csv')"
   ]
  },
  {
   "cell_type": "code",
   "execution_count": 46,
   "metadata": {},
   "outputs": [
    {
     "data": {
      "text/html": [
       "<div>\n",
       "<style scoped>\n",
       "    .dataframe tbody tr th:only-of-type {\n",
       "        vertical-align: middle;\n",
       "    }\n",
       "\n",
       "    .dataframe tbody tr th {\n",
       "        vertical-align: top;\n",
       "    }\n",
       "\n",
       "    .dataframe thead th {\n",
       "        text-align: right;\n",
       "    }\n",
       "</style>\n",
       "<table border=\"1\" class=\"dataframe\">\n",
       "  <thead>\n",
       "    <tr style=\"text-align: right;\">\n",
       "      <th></th>\n",
       "      <th>LNR</th>\n",
       "      <th>RESPONSE</th>\n",
       "    </tr>\n",
       "  </thead>\n",
       "  <tbody>\n",
       "    <tr>\n",
       "      <td>0</td>\n",
       "      <td>1754</td>\n",
       "      <td>0.500723</td>\n",
       "    </tr>\n",
       "    <tr>\n",
       "      <td>1</td>\n",
       "      <td>1770</td>\n",
       "      <td>0.515904</td>\n",
       "    </tr>\n",
       "    <tr>\n",
       "      <td>2</td>\n",
       "      <td>1465</td>\n",
       "      <td>0.054815</td>\n",
       "    </tr>\n",
       "    <tr>\n",
       "      <td>3</td>\n",
       "      <td>1470</td>\n",
       "      <td>0.111030</td>\n",
       "    </tr>\n",
       "    <tr>\n",
       "      <td>4</td>\n",
       "      <td>1478</td>\n",
       "      <td>0.151276</td>\n",
       "    </tr>\n",
       "    <tr>\n",
       "      <td>...</td>\n",
       "      <td>...</td>\n",
       "      <td>...</td>\n",
       "    </tr>\n",
       "    <tr>\n",
       "      <td>42788</td>\n",
       "      <td>30282</td>\n",
       "      <td>0.000000</td>\n",
       "    </tr>\n",
       "    <tr>\n",
       "      <td>42794</td>\n",
       "      <td>38893</td>\n",
       "      <td>0.000000</td>\n",
       "    </tr>\n",
       "    <tr>\n",
       "      <td>42799</td>\n",
       "      <td>38651</td>\n",
       "      <td>0.000000</td>\n",
       "    </tr>\n",
       "    <tr>\n",
       "      <td>42810</td>\n",
       "      <td>68874</td>\n",
       "      <td>0.000000</td>\n",
       "    </tr>\n",
       "    <tr>\n",
       "      <td>42828</td>\n",
       "      <td>67615</td>\n",
       "      <td>0.000000</td>\n",
       "    </tr>\n",
       "  </tbody>\n",
       "</table>\n",
       "<p>42833 rows × 2 columns</p>\n",
       "</div>"
      ],
      "text/plain": [
       "         LNR  RESPONSE\n",
       "0       1754  0.500723\n",
       "1       1770  0.515904\n",
       "2       1465  0.054815\n",
       "3       1470  0.111030\n",
       "4       1478  0.151276\n",
       "...      ...       ...\n",
       "42788  30282  0.000000\n",
       "42794  38893  0.000000\n",
       "42799  38651  0.000000\n",
       "42810  68874  0.000000\n",
       "42828  67615  0.000000\n",
       "\n",
       "[42833 rows x 2 columns]"
      ]
     },
     "execution_count": 46,
     "metadata": {},
     "output_type": "execute_result"
    }
   ],
   "source": [
    "# Add the cluster column from the previous part as this is our new engineered feature\n",
    "finalresults = pd.DataFrame()\n",
    "padding = pd.DataFrame()\n",
    "finalresults['LNR'] = df_test['LNR']\n",
    "padding['LNR'] = df_test_2[~df_test_2['LNR'].isin(df_test['LNR'])].LNR\n",
    "df_test = df_test.drop(columns='LNR')\n",
    "df_test = addClusterCol(df_test,[],scaler,mypca,myclustering)\n",
    "X= df_test\n",
    "# Calculate the recall score\n",
    "pred_test= best_clf.predict_proba(X)\n",
    "finalresults['RESPONSE'] = best_clf.predict_proba(X)[:,1]\n",
    "padding['RESPONSE'] = 0\n",
    "df = pd.concat([finalresults, padding])"
   ]
  },
  {
   "cell_type": "code",
   "execution_count": 47,
   "metadata": {},
   "outputs": [],
   "source": [
    "df.to_csv('submission.csv',index=False)"
   ]
  }
 ],
 "metadata": {
  "kernelspec": {
   "display_name": "Python 3",
   "language": "python",
   "name": "python3"
  },
  "language_info": {
   "codemirror_mode": {
    "name": "ipython",
    "version": 3
   },
   "file_extension": ".py",
   "mimetype": "text/x-python",
   "name": "python",
   "nbconvert_exporter": "python",
   "pygments_lexer": "ipython3",
   "version": "3.7.3"
  }
 },
 "nbformat": 4,
 "nbformat_minor": 2
}
